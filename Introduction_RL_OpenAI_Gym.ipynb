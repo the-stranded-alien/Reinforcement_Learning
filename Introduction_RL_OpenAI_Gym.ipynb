{
 "cells": [
  {
   "cell_type": "markdown",
   "metadata": {},
   "source": [
    "## Introduction To Reinforcement Learning\n",
    "\n",
    "Some Common Terms\n",
    " - Agent\n",
    " - Environment\n",
    " - Action, State, Rewards, Observations"
   ]
  },
  {
   "cell_type": "markdown",
   "metadata": {},
   "source": [
    "## 1. Interacting With The OpenAI Gym API"
   ]
  },
  {
   "cell_type": "code",
   "execution_count": 1,
   "metadata": {},
   "outputs": [],
   "source": [
    "import gym"
   ]
  },
  {
   "cell_type": "markdown",
   "metadata": {},
   "source": [
    "#### 1. Create Environment"
   ]
  },
  {
   "cell_type": "code",
   "execution_count": 2,
   "metadata": {},
   "outputs": [],
   "source": [
    "# There Are Over 100 Different Environments Available In Gym API\n",
    "env = gym.make('CartPole-v0')"
   ]
  },
  {
   "cell_type": "markdown",
   "metadata": {},
   "source": [
    "#### 2. Comes With Certain Important Methods/Attributes\n",
    "\n",
    " - action_space\n",
    " - observation_space\n",
    " - reset()\n",
    " - step()\n",
    " - render()"
   ]
  },
  {
   "cell_type": "markdown",
   "metadata": {},
   "source": [
    "##### 2.1 reset ( ) --- Returns The Initial State And Also Resets The Environment !"
   ]
  },
  {
   "cell_type": "code",
   "execution_count": 3,
   "metadata": {},
   "outputs": [
    {
     "name": "stdout",
     "output_type": "stream",
     "text": [
      "[ 0.02967125 -0.00613176 -0.03830356  0.02326004]\n"
     ]
    }
   ],
   "source": [
    "print(env.reset())"
   ]
  },
  {
   "cell_type": "markdown",
   "metadata": {},
   "source": [
    "#### In This Game Environment The State Could Be Defined Using These 4 Parameters --\n",
    "\n",
    " - Location Of The Cart.\n",
    " - Velocity Of The Cart.\n",
    " - Angular Velocity Of The Rod (Pole Velocity At Tip)\n",
    " - Pole Angle \n"
   ]
  },
  {
   "cell_type": "markdown",
   "metadata": {},
   "source": [
    "##### 2.2 render ( )"
   ]
  },
  {
   "cell_type": "code",
   "execution_count": 4,
   "metadata": {},
   "outputs": [],
   "source": [
    "for t in range(100):\n",
    "    env.render()\n",
    "env.close()"
   ]
  },
  {
   "cell_type": "markdown",
   "metadata": {},
   "source": [
    "##### 2.3 \"action_space\" --- Consists Of All Possible Actions That Can Be Performed In The Game Environment ! "
   ]
  },
  {
   "cell_type": "code",
   "execution_count": 5,
   "metadata": {},
   "outputs": [
    {
     "name": "stdout",
     "output_type": "stream",
     "text": [
      "Discrete(2)\n"
     ]
    }
   ],
   "source": [
    "print(env.action_space) # Discrete Class Contains A Set Of Items !"
   ]
  },
  {
   "cell_type": "code",
   "execution_count": 6,
   "metadata": {},
   "outputs": [
    {
     "name": "stdout",
     "output_type": "stream",
     "text": [
      "2\n"
     ]
    }
   ],
   "source": [
    "print(env.action_space.n)"
   ]
  },
  {
   "cell_type": "markdown",
   "metadata": {},
   "source": [
    "##### 2.4 \"observation_space\" --- Used To Represent A 'n' Dimension Tensor !"
   ]
  },
  {
   "cell_type": "code",
   "execution_count": 7,
   "metadata": {},
   "outputs": [
    {
     "name": "stdout",
     "output_type": "stream",
     "text": [
      "Box(4,)\n"
     ]
    }
   ],
   "source": [
    "print(env.observation_space)"
   ]
  },
  {
   "cell_type": "code",
   "execution_count": 8,
   "metadata": {},
   "outputs": [
    {
     "name": "stdout",
     "output_type": "stream",
     "text": [
      "(4,)\n",
      "4\n"
     ]
    }
   ],
   "source": [
    "print(env.observation_space.shape)\n",
    "print(env.observation_space.shape[0])"
   ]
  },
  {
   "cell_type": "markdown",
   "metadata": {},
   "source": [
    "##### 2.5 step ( )"
   ]
  },
  {
   "cell_type": "code",
   "execution_count": 9,
   "metadata": {},
   "outputs": [],
   "source": [
    "env.reset()\n",
    "for t in range(100):\n",
    "    # random_action = env.action_space.sample()\n",
    "    # env.step(random_action) # Randomly Moves Left Or Right\n",
    "    _, _, done, _ = env.step(env.action_space.sample())\n",
    "    if done:\n",
    "        break\n",
    "    env.render()\n",
    "env.close()"
   ]
  },
  {
   "cell_type": "markdown",
   "metadata": {},
   "source": [
    "#### To Win This Game One Needs 200 Points i.e. Need To Balance The Rod For 200 Time Steps !"
   ]
  },
  {
   "cell_type": "markdown",
   "metadata": {},
   "source": [
    "## 2. Playing Games With A Random Strategy\n",
    "\n",
    " - **Game Episode** -- Entire Game Play, From Start To Game Over !\n",
    " - Step ( ) Function In More Detail\n",
    " - Game Over ?"
   ]
  },
  {
   "cell_type": "markdown",
   "metadata": {},
   "source": [
    "#### Step ( ) --- Step Function Returns 4 Things\n",
    " \n",
    " - New Observation/State\n",
    " - Reward\n",
    " - Done (True/False)\n",
    " - Other Info"
   ]
  },
  {
   "cell_type": "markdown",
   "metadata": {},
   "source": [
    "##### How To Play Multiple Game Episodes"
   ]
  },
  {
   "cell_type": "code",
   "execution_count": 10,
   "metadata": {},
   "outputs": [
    {
     "name": "stdout",
     "output_type": "stream",
     "text": [
      "Game Episode : 0 / 20 ! High Score : 35\n",
      "Game Episode : 1 / 20 ! High Score : 9\n",
      "Game Episode : 2 / 20 ! High Score : 9\n",
      "Game Episode : 3 / 20 ! High Score : 20\n",
      "Game Episode : 4 / 20 ! High Score : 14\n",
      "Game Episode : 5 / 20 ! High Score : 42\n",
      "Game Episode : 6 / 20 ! High Score : 13\n",
      "Game Episode : 7 / 20 ! High Score : 20\n",
      "Game Episode : 8 / 20 ! High Score : 16\n",
      "Game Episode : 9 / 20 ! High Score : 14\n",
      "Game Episode : 10 / 20 ! High Score : 23\n",
      "Game Episode : 11 / 20 ! High Score : 29\n",
      "Game Episode : 12 / 20 ! High Score : 12\n",
      "Game Episode : 13 / 20 ! High Score : 34\n",
      "Game Episode : 14 / 20 ! High Score : 10\n",
      "Game Episode : 15 / 20 ! High Score : 13\n",
      "Game Episode : 16 / 20 ! High Score : 15\n",
      "Game Episode : 17 / 20 ! High Score : 9\n",
      "Game Episode : 18 / 20 ! High Score : 11\n",
      "Game Episode : 19 / 20 ! High Score : 26\n",
      "All 20 Episodes Over !!\n"
     ]
    }
   ],
   "source": [
    "for e in range(20): # Episode\n",
    "    # Play 20 Episodes\n",
    "    observation = env.reset()\n",
    "    for t in range(50):\n",
    "        env.render()\n",
    "        action = env.action_space.sample()\n",
    "        observation, reward, done, other_info = env.step(action)\n",
    "        if done:\n",
    "            # Game Episode Is Over\n",
    "            print(\"Game Episode : {} / {} ! High Score : {}\".format(e, 20, t))\n",
    "            break\n",
    "env.close()\n",
    "print(\"All 20 Episodes Over !!\")        "
   ]
  }
 ],
 "metadata": {
  "kernelspec": {
   "display_name": "Python 3",
   "language": "python",
   "name": "python3"
  },
  "language_info": {
   "codemirror_mode": {
    "name": "ipython",
    "version": 3
   },
   "file_extension": ".py",
   "mimetype": "text/x-python",
   "name": "python",
   "nbconvert_exporter": "python",
   "pygments_lexer": "ipython3",
   "version": "3.7.7"
  }
 },
 "nbformat": 4,
 "nbformat_minor": 2
}
